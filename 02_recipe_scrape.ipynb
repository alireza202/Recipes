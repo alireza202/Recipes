{
 "metadata": {
  "name": "",
  "signature": "sha256:1bf130b0602d71edbfa6296020764665697b5367ec41554d48ed0a90880f3d2b"
 },
 "nbformat": 3,
 "nbformat_minor": 0,
 "worksheets": [
  {
   "cells": [
    {
     "cell_type": "code",
     "collapsed": false,
     "input": [
      "import sys, re\n",
      "import urllib2\n",
      "import pickle\n",
      "import time\n",
      "from joblib import Parallel, delayed  \n",
      "import multiprocessing\n",
      "from scripts import *\n",
      "from Recipe import Recipe"
     ],
     "language": "python",
     "metadata": {},
     "outputs": [],
     "prompt_number": 1
    },
    {
     "cell_type": "code",
     "collapsed": false,
     "input": [
      "url_file = open('urls.txt', 'r')\n",
      "urls = url_file.read().split()\n",
      "len(urls)"
     ],
     "language": "python",
     "metadata": {},
     "outputs": [
      {
       "metadata": {},
       "output_type": "pyout",
       "prompt_number": 2,
       "text": [
        "50080"
       ]
      }
     ],
     "prompt_number": 2
    },
    {
     "cell_type": "code",
     "collapsed": false,
     "input": [
      "num_cores = multiprocessing.cpu_count()\n",
      "# function that opens a url, reads it, and scrapes the data into an object of class Recipe\n",
      "def recipe_ext(i):\n",
      "    url = 'http://allrecipes.com' + urls[i]\n",
      "    try:\n",
      "        html = urllib2.urlopen(url).read()\n",
      "    except:\n",
      "        print 'Couldnt open the url: ' + url\n",
      "    recipe = Recipe(i)\n",
      "    recipe.url = url\n",
      "    recipe.name = url.split('/')[4]\n",
      "    try:\n",
      "        recipe.votes = list_to_int(re.findall(r'reviewCount\\\">(\\d+)', html))\n",
      "    except:\n",
      "        recipe.votes = 0\n",
      "    try:\n",
      "        recipe.rating = float(re.search(r'ratingValue\\\" content=\\\"(\\d?\\.?\\d+)', html).group(1))\n",
      "    except:\n",
      "        recipe.rating = 0\n",
      "    try:\n",
      "        recipe.prep = list_to_time(re.findall(r'prepTime\\\" datetime=\\\"PT(.+)\\\"><\\/time>', html))\n",
      "    except:\n",
      "        recipe.prep = 0\n",
      "    try:\n",
      "        recipe.cook = list_to_time(re.findall(r'cookTime\\\" datetime=\\\"PT(.+)\\\"><\\/time>', html))\n",
      "    except:\n",
      "        recipe.cook = 0\n",
      "    try:\n",
      "        recipe.total_time = list_to_time(re.findall(r'totalTime\\\" datetime=\\\"PT(.+)\\\"><\\/time>', html))\n",
      "    except:\n",
      "        recipe.total_time = 0\n",
      "    try:\n",
      "        recipe.ing_amount = re.findall(r'ingredient-amount\\\">(.+)<\\/span>', html)\n",
      "    except:\n",
      "        recipe.ing_amount = 0\n",
      "    try:\n",
      "        recipe.ing_name = re.findall(r'ingredient-name\\\">(.+)<\\/span>', html)\n",
      "    except:\n",
      "        recipe.ing_name = 0\n",
      "    try:\n",
      "        recipe.recipe = re.findall(r'plaincharacterwrap break\\\">(.+)<\\/span>', html)\n",
      "    except:\n",
      "        recipe.recipe = 0\n",
      "    try:\n",
      "        recipe.nutrition = re.findall(r'lblNutrientValue\\\">(.+)</span>', html)\n",
      "    except:\n",
      "        recipe.nutrition = 0\n",
      "    return recipe"
     ],
     "language": "python",
     "metadata": {},
     "outputs": [],
     "prompt_number": 3
    },
    {
     "cell_type": "code",
     "collapsed": false,
     "input": [
      "tic = time.time()\n",
      "# parallel implementation\n",
      "all_recipes = Parallel(n_jobs=num_cores)(delayed(recipe_ext)(i) for i in range(len(urls)))\n",
      "tac = time.time()\n",
      "print (tac - tic) / 60"
     ],
     "language": "python",
     "metadata": {},
     "outputs": [
      {
       "output_type": "stream",
       "stream": "stdout",
       "text": [
        "115.389720301\n"
       ]
      }
     ],
     "prompt_number": 4
    },
    {
     "cell_type": "code",
     "collapsed": false,
     "input": [
      "all_recipes[-1].ing_name"
     ],
     "language": "python",
     "metadata": {},
     "outputs": [
      {
       "metadata": {},
       "output_type": "pyout",
       "prompt_number": 8,
       "text": [
        "['sweet potatoes, peeled, cut into 1 1/2-inch chunks',\n",
        " 'PHILADELPHIA Chive & Onion Cream Cheese Product',\n",
        " 'OSCAR MAYER Real Bacon Bits']"
       ]
      }
     ],
     "prompt_number": 8
    },
    {
     "cell_type": "code",
     "collapsed": false,
     "input": [
      "with open('recipes.pkl', 'wb') as outfile:\n",
      "    pickle.dump(all_recipes, outfile)"
     ],
     "language": "python",
     "metadata": {},
     "outputs": [],
     "prompt_number": 5
    },
    {
     "cell_type": "code",
     "collapsed": false,
     "input": [
      "new_recipe = None\n",
      "\n",
      "with open('save.pkl', 'rb') as infile:\n",
      "    new_recipe = pickle.load(infile)\n",
      "    \n",
      "new_recipe[2].url"
     ],
     "language": "python",
     "metadata": {},
     "outputs": [
      {
       "metadata": {},
       "output_type": "pyout",
       "prompt_number": 13,
       "text": [
        "'http://allrecipes.com/Recipe/Too-Much-Chocolate-Cake/Detail.aspx'"
       ]
      }
     ],
     "prompt_number": 13
    },
    {
     "cell_type": "code",
     "collapsed": false,
     "input": [],
     "language": "python",
     "metadata": {},
     "outputs": []
    }
   ],
   "metadata": {}
  }
 ]
}