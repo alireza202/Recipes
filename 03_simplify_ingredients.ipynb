{
 "metadata": {
  "name": "",
  "signature": "sha256:0f6e3b9d9504caa7749c2a2f5a980e3f93b962fe49aca6c3bab77f37419c5fe5"
 },
 "nbformat": 3,
 "nbformat_minor": 0,
 "worksheets": [
  {
   "cells": [
    {
     "cell_type": "code",
     "collapsed": false,
     "input": [
      "import sys, re\n",
      "import pickle\n",
      "from Recipe import Recipe\n",
      "from nltk.corpus import wordnet as wn\n",
      "from nltk.stem.wordnet import WordNetLemmatizer\n",
      "from collections import Counter\n",
      "\n",
      "lmtzr = WordNetLemmatizer()"
     ],
     "language": "python",
     "metadata": {},
     "outputs": [],
     "prompt_number": 1
    },
    {
     "cell_type": "code",
     "collapsed": false,
     "input": [
      "def word_check(word_to_test):\n",
      "    if (not wn.synsets(word_to_test)) or (len(word_to_test) < 3):\n",
      "        #Not an English Word\n",
      "        return False\n",
      "    else:\n",
      "        #English Word\n",
      "        return True"
     ],
     "language": "python",
     "metadata": {},
     "outputs": [],
     "prompt_number": 2
    },
    {
     "cell_type": "code",
     "collapsed": false,
     "input": [
      "all_recipes = None\n",
      "with open('recipes.pkl', 'rb') as infile:\n",
      "    all_recipes = pickle.load(infile)"
     ],
     "language": "python",
     "metadata": {},
     "outputs": [],
     "prompt_number": 3
    },
    {
     "cell_type": "code",
     "collapsed": false,
     "input": [
      "# remove recipes with one ingredient\n",
      "single_ing_recip = [i for i in range(len(all_recipes)) if len(all_recipes[i].ing_name) == 1]\n",
      "all_recipes = [all_recipes[i] for i in range(len(all_recipes)) if i not in single_ing_recip]\n",
      "len(all_recipes)"
     ],
     "language": "python",
     "metadata": {},
     "outputs": [
      {
       "metadata": {},
       "output_type": "pyout",
       "prompt_number": 4,
       "text": [
        "50040"
       ]
      }
     ],
     "prompt_number": 4
    },
    {
     "cell_type": "code",
     "collapsed": false,
     "input": [
      "def reducer(y, reg):\n",
      "    y = [x.lower() for x in y]\n",
      "    y = [re.sub(reg, '', x) for x in y]\n",
      "    y = [re.sub(r'&| f$', ' ', x) for x in y]\n",
      "    y = [s.strip() for s in y]\n",
      "    return y"
     ],
     "language": "python",
     "metadata": {},
     "outputs": [],
     "prompt_number": 5
    },
    {
     "cell_type": "code",
     "collapsed": false,
     "input": [
      "ingredients = [x for i in range(len(all_recipes)) for x in all_recipes[i].ing_name]\n",
      "# finding unique ingredients\n",
      "ingredients = list(set(ingredients))\n",
      "# cleaning the list\n",
      "regex1 = r'&nbsp;|&#\\d+;|\\*|\\%|\\:|,.+|\\(.+\\)| \\- .+|\\d.+?|\\\\.+| in .+| and .+| or .+| with .+| at .+| into .+| as .+|<a href.+'   \n",
      "ingredients = reducer(ingredients, regex1)\n",
      "ingredients = list(set(ingredients))\n",
      "\n",
      "len(ingredients)"
     ],
     "language": "python",
     "metadata": {},
     "outputs": [
      {
       "metadata": {},
       "output_type": "pyout",
       "prompt_number": 6,
       "text": [
        "16329"
       ]
      }
     ],
     "prompt_number": 6
    },
    {
     "cell_type": "code",
     "collapsed": false,
     "input": [
      "# we first find the single words. they are the main ingredients.\n",
      "one_words = list(set([lmtzr.lemmatize(x.split()[0]) for x in ingredients if len(x.split()) == 1]))\n",
      "# one_words = [x.split()[0] for x in ingredients if len(x.split()) == 1]\n",
      "one_words = [x for x in one_words if word_check(x)]\n",
      "\n",
      "len(one_words)"
     ],
     "language": "python",
     "metadata": {},
     "outputs": [
      {
       "metadata": {},
       "output_type": "pyout",
       "prompt_number": 7,
       "text": [
        "563"
       ]
      }
     ],
     "prompt_number": 7
    },
    {
     "cell_type": "code",
     "collapsed": false,
     "input": [
      "# removing the one-word adjectives from the ingredients\n",
      "list_adj = [x.lemma_names[0] for x in list(wn.all_synsets('a'))]\n",
      "keep = ['tangerine', 'honey', 'avocado', 'ginger', 'mint', 'orange', 'salt', 'vanilla', 'vanilla']\n",
      "for word in keep:\n",
      "    list_adj.remove(word)\n",
      "\n",
      "# removing the uninformative single words\n",
      "be_removed = ['diced', 'ground', 'peeled', 'fully-cooked', 'ricotta-stuffed', 'dry-roasted',\\\n",
      "             'low-sodium', 'unpeeled', 'sweetened', 'filling', 'pitted', 'creamed', 'bone-in',\\\n",
      "             'hulled', 'roasted', 'glue', 'moist', 'stewed', 'minced', 'reduced-calorie',\\\n",
      "             'deveined', 'grated', 'gluten', 'f', 'g', 'o', 'p', 'gr', 'go', 'reducedat',\\\n",
      "             \"breakstone's\", 'cooky']\n",
      "one_words = [x for x in one_words if x not in list_adj and x not in be_removed]\n",
      "\n",
      "# some of these words were mutilated by regex, so we put them back\n",
      "be_added = ['jam', 'syrup', 'rosewater', 'paneer', 'bulgar', 'pancetta', 'chicken',\\\n",
      "            'chips', 'olive', 'chipotle', 'ale', 'nuts', 'edamame', 'tea', 'noodle', 'liqueur',\\\n",
      "            'peppermint', 'sunflower', 'cookie', 'lasagna', 'ramen', 'fish', 'cereal', 'fruit',\\\n",
      "            'nuts', 'soybean', 'jell-o', 'chilie', 'mozzarella', 'curry', 'brussels', 'butterscotch',\\\n",
      "            'crust', 'liver', 'gouda', 'soda', 'deer', 'waffles', 'caramel', 'sushi']\n",
      "one_words.extend(be_added)\n",
      "\n",
      "len(one_words)"
     ],
     "language": "python",
     "metadata": {},
     "outputs": [
      {
       "metadata": {},
       "output_type": "pyout",
       "prompt_number": 8,
       "text": [
        "498"
       ]
      }
     ],
     "prompt_number": 8
    },
    {
     "cell_type": "code",
     "collapsed": false,
     "input": [
      "# making a dictionary for all ingredients to be mapped with a smaller vocabulary\n",
      "list_ing = dict(zip(one_words, one_words))\n",
      "\n",
      "for x in ingredients:\n",
      "    if not list_ing.has_key(x):\n",
      "        for w in x.split()[::-1]: # this starts from the last word, and goes backwards\n",
      "            if list_ing.has_key(lmtzr.lemmatize(w)): # apples will be converted to apple\n",
      "                list_ing[x] = list_ing[lmtzr.lemmatize(w)]\n",
      "                break\n",
      "        if not list_ing.has_key(x) and len(x.split()) > 1:\n",
      "            list_ing[x] = x\n",
      "        elif not list_ing.has_key(x) and len(x.split()) == 1:\n",
      "            list_ing[x] = None\n",
      "\n",
      "list_ing['frozen skinless'] = 'chicken'\n",
      "# remove entries that are not needed\n",
      "# entries_to_remove(('-f', '', '-ounce jar'), list_ing)"
     ],
     "language": "python",
     "metadata": {},
     "outputs": [],
     "prompt_number": 9
    },
    {
     "cell_type": "code",
     "collapsed": false,
     "input": [
      "# write the dictionary of simplified ingredients to a dump file\n",
      "with open('simp_ing_dict.pkl', 'wb') as outfile:\n",
      "    pickle.dump(list_ing, outfile)"
     ],
     "language": "python",
     "metadata": {},
     "outputs": [],
     "prompt_number": 10
    },
    {
     "cell_type": "code",
     "collapsed": false,
     "input": [
      "for i in range(len(all_recipes)):\n",
      "    all_recipes[i].simp_ing_name = list(set([list_ing[x] for x in reducer(all_recipes[i].ing_name, regex1) if x if list_ing[x] is not None]))  "
     ],
     "language": "python",
     "metadata": {},
     "outputs": [],
     "prompt_number": 42
    },
    {
     "cell_type": "code",
     "collapsed": false,
     "input": [
      "# write the recipes with simplified ingredients to a dump file\n",
      "with open('recipes_simp_ing.pkl', 'wb') as outfile:\n",
      "    pickle.dump(all_recipes, outfile)"
     ],
     "language": "python",
     "metadata": {},
     "outputs": [],
     "prompt_number": 43
    },
    {
     "cell_type": "code",
     "collapsed": false,
     "input": [
      "all_recipes = None\n",
      "with open('recipes_simp_ing.pkl', 'rb') as infile:\n",
      "    all_recipes = pickle.load(infile)"
     ],
     "language": "python",
     "metadata": {},
     "outputs": [],
     "prompt_number": 2
    },
    {
     "cell_type": "code",
     "collapsed": false,
     "input": [
      "with open('export_simp_ing.txt', 'w') as f:\n",
      "    for recipe in all_recipes:\n",
      "        f.write('\\t'.join(recipe.simp_ing_name))\n",
      "        f.write('\\n')"
     ],
     "language": "python",
     "metadata": {},
     "outputs": [],
     "prompt_number": 44
    },
    {
     "cell_type": "code",
     "collapsed": false,
     "input": [
      "with open('export_ing.txt', 'w') as f:\n",
      "    for recipe in all_recipes:\n",
      "        f.write(' '.join(recipe.ing_name))\n",
      "        f.write('\\n')"
     ],
     "language": "python",
     "metadata": {},
     "outputs": [],
     "prompt_number": 47
    },
    {
     "cell_type": "code",
     "collapsed": false,
     "input": [
      "with open('export_id_name.txt', 'w') as f:\n",
      "    for i, recipe in enumerate(all_recipes):\n",
      "        f.write('\\t'.join(str(x) for x in [i, recipe.id, recipe.name, ]))\n",
      "        f.write('\\n')"
     ],
     "language": "python",
     "metadata": {},
     "outputs": [],
     "prompt_number": 46
    }
   ],
   "metadata": {}
  }
 ]
}