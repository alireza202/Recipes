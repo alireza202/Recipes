{
 "metadata": {
  "name": "",
  "signature": "sha256:2fa3e20258d43aef41843094ea4b6b8dd7d627b7d49934f9a2c3af920445a6b6"
 },
 "nbformat": 3,
 "nbformat_minor": 0,
 "worksheets": [
  {
   "cells": [
    {
     "cell_type": "code",
     "collapsed": false,
     "input": [
      "def convert_time(s):\n",
      "    if 'M' in s and 'H' not in s and 'D' not in s:\n",
      "        return int(s[:-1])\n",
      "    elif 'M' not in s and 'H' in s and 'D' not in s:\n",
      "        return int(s[:-1]) * 60\n",
      "    elif 'M' in s and 'H' in s and 'D' not in s:\n",
      "        a = [int(x.split('M')[0]) for x in s.split('H')]\n",
      "        return a[0] * 60 + a[1]\n",
      "    else:\n",
      "        return 0"
     ],
     "language": "python",
     "metadata": {},
     "outputs": [],
     "prompt_number": 1
    },
    {
     "cell_type": "code",
     "collapsed": false,
     "input": [
      "def list_to_time(l):\n",
      "    if l:\n",
      "        return convert_time(map(str, l)[0])\n",
      "    else:\n",
      "        return 0"
     ],
     "language": "python",
     "metadata": {},
     "outputs": [],
     "prompt_number": 3
    },
    {
     "cell_type": "code",
     "collapsed": false,
     "input": [
      "def list_to_int(l):\n",
      "    if len(l):\n",
      "        return map(int, l)[0]\n",
      "    else:\n",
      "        return 0"
     ],
     "language": "python",
     "metadata": {},
     "outputs": [],
     "prompt_number": 4
    }
   ],
   "metadata": {}
  }
 ]
}