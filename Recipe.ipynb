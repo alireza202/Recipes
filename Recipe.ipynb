{
 "metadata": {
  "name": "",
  "signature": "sha256:28b32f1556e18d9de9918c85147f2b9fb795b78337088fd52179c6427058bd79"
 },
 "nbformat": 3,
 "nbformat_minor": 0,
 "worksheets": [
  {
   "cells": [
    {
     "cell_type": "code",
     "collapsed": false,
     "input": [
      "class Recipe:\n",
      "    \n",
      "    def __init__(self, ID):\n",
      "        self.id = ID\n",
      "    # Following attributes will be added later:\n",
      "    # 'cook', cooking time\n",
      "    # 'ing_amount', ingredient amount\n",
      "    # 'ing_name', ingredient name\n",
      "    # 'name',\n",
      "    # 'nutrition', Calories, Carbohydrates, Cholesterol, Fat, Fiber, Protein, Sodium \n",
      "    # 'prep', preparation time\n",
      "    # 'rating',\n",
      "    # 'recipe',\n",
      "    # 'total_time',\n",
      "    # 'url',\n",
      "    # 'votes',\n",
      " "
     ],
     "language": "python",
     "metadata": {},
     "outputs": []
    }
   ],
   "metadata": {}
  }
 ]
}