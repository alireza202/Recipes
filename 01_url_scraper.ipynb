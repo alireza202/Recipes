{
 "metadata": {
  "name": "",
  "signature": "sha256:23af34e4160a94a728dfbac13e534acdf68c31bb9d5e41c4abded5eb75667004"
 },
 "nbformat": 3,
 "nbformat_minor": 0,
 "worksheets": [
  {
   "cells": [
    {
     "cell_type": "code",
     "collapsed": false,
     "input": [
      "import re\n",
      "import urllib2\n",
      "import time\n",
      "from joblib import Parallel, delayed  \n",
      "import multiprocessing"
     ],
     "language": "python",
     "metadata": {},
     "outputs": [],
     "prompt_number": 20
    },
    {
     "cell_type": "code",
     "collapsed": false,
     "input": [
      "num_cores = multiprocessing.cpu_count()\n",
      "url_base = 'http://allrecipes.com/recipes/main.aspx?Page='\n",
      "# recipe urls\n",
      "regex1 = r'\\\"img\\-link\\\" href=\\\"(\\/Recipe\\/.*?Detail.aspx)'"
     ],
     "language": "python",
     "metadata": {},
     "outputs": [],
     "prompt_number": 10
    },
    {
     "cell_type": "code",
     "collapsed": false,
     "input": [
      "# function that opens a url, reads it, and finds the recipe urls\n",
      "def url_ext(i):\n",
      "    return re.findall(regex1, urllib2.urlopen(url_base + str(i)).read())"
     ],
     "language": "python",
     "metadata": {},
     "outputs": [],
     "prompt_number": 11
    },
    {
     "cell_type": "code",
     "collapsed": false,
     "input": [
      "tic = time.time()\n",
      "# parallel implementation\n",
      "results = Parallel(n_jobs=num_cores)(delayed(url_ext)(i) for i in range(2,2506))\n",
      "tac = time.time()\n",
      "print (tac - tic) / 60"
     ],
     "language": "python",
     "metadata": {},
     "outputs": [
      {
       "output_type": "stream",
       "stream": "stdout",
       "text": [
        "6.23437740008\n"
       ]
      }
     ],
     "prompt_number": 34
    },
    {
     "cell_type": "code",
     "collapsed": false,
     "input": [
      "# writing out the urls to a file\n",
      "thefile = open('urls.txt', 'a')\n",
      "for urls in results:\n",
      "    for url in urls:\n",
      "        thefile.write(\"%s\\n\" % url)\n",
      "thefile.close()"
     ],
     "language": "python",
     "metadata": {},
     "outputs": [],
     "prompt_number": 37
    }
   ],
   "metadata": {}
  }
 ]
}